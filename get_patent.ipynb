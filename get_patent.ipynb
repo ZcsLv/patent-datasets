{
 "cells": [
  {
   "cell_type": "code",
   "execution_count": 1,
   "metadata": {},
   "outputs": [],
   "source": [
    "from bs4 import BeautifulSoup\n",
    "import requests\n",
    "import time,random,os\n",
    "from selenium import webdriver\n",
    "from selenium.webdriver.common.by import By\n",
    "from faker import Faker"
   ]
  },
  {
   "cell_type": "code",
   "execution_count": 30,
   "metadata": {},
   "outputs": [],
   "source": [
    "option = webdriver.ChromeOptions()\n",
    "# option.add_argument('headless') # 后台运行\n",
    "option.add_experimental_option('excludeSwitches', ['enable-automation'])\n",
    "option.add_experimental_option('useAutomationExtension',False)\n",
    "# option.add_argument(\"--user-data-dir=\"+r\"C:\\Users\\zyq\\AppData\\Local\\Google\\Chrome\\User Data\")\n",
    "# option.add_argument(\"--user-data-dir=\"+r\"C:/Users/zyq/AppData/Local/Google/Chrome/User Data/\")\n",
    "driver = webdriver.Chrome(options=option)\n",
    "# driver.maximize_window()  # 最大化\n",
    "# driver.set_window_size(1200, 800) # 大小\n",
    "\n",
    "# driver.execute_cdp_cmd('Page.addScriptToEvaluateOnNewDocument',{\n",
    "#     'source':'Object.defineProperty(navigator,\"webdriver\",{get:()=>undefined})'\n",
    "# })\n",
    "\n",
    "driver.implicitly_wait(1)"
   ]
  },
  {
   "cell_type": "code",
   "execution_count": 33,
   "metadata": {},
   "outputs": [
    {
     "data": {
      "text/plain": [
       "'https://baidu.com'"
      ]
     },
     "execution_count": 33,
     "metadata": {},
     "output_type": "execute_result"
    }
   ],
   "source": [
    "url = 'https://pss-system.cponline.cnipa.gov.cn/retrieveList?prevPageTit=chagngui'\n",
    "url = 'https://baidu.com'\n",
    "url "
   ]
  },
  {
   "cell_type": "code",
   "execution_count": 34,
   "metadata": {},
   "outputs": [],
   "source": [
    "driver.get(url)"
   ]
  },
  {
   "cell_type": "code",
   "execution_count": 35,
   "metadata": {},
   "outputs": [],
   "source": [
    "driver.get(\"https://antispider1.scrape.center/\")"
   ]
  }
 ],
 "metadata": {
  "kernelspec": {
   "display_name": "Python 3.7.13 ('py37')",
   "language": "python",
   "name": "python3"
  },
  "language_info": {
   "codemirror_mode": {
    "name": "ipython",
    "version": 3
   },
   "file_extension": ".py",
   "mimetype": "text/x-python",
   "name": "python",
   "nbconvert_exporter": "python",
   "pygments_lexer": "ipython3",
   "version": "3.7.13"
  },
  "orig_nbformat": 4,
  "vscode": {
   "interpreter": {
    "hash": "a4a847150c17a56e8ab8e8e7872ca30cb83471eb1df49153297cb018a7672186"
   }
  }
 },
 "nbformat": 4,
 "nbformat_minor": 2
}
